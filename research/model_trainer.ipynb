{
 "cells": [
  {
   "cell_type": "code",
   "execution_count": 1,
   "id": "6424d322",
   "metadata": {},
   "outputs": [
    {
     "data": {
      "text/plain": [
       "'d:\\\\pythonProjects\\\\Agentic_AI\\\\research'"
      ]
     },
     "execution_count": 1,
     "metadata": {},
     "output_type": "execute_result"
    }
   ],
   "source": [
    "import os \n",
    "%pwd"
   ]
  },
  {
   "cell_type": "code",
   "execution_count": 2,
   "id": "70de0642",
   "metadata": {},
   "outputs": [],
   "source": [
    "os.chdir('../')"
   ]
  },
  {
   "cell_type": "code",
   "execution_count": 3,
   "id": "0defb914",
   "metadata": {},
   "outputs": [
    {
     "data": {
      "text/plain": [
       "'d:\\\\pythonProjects\\\\Agentic_AI'"
      ]
     },
     "execution_count": 3,
     "metadata": {},
     "output_type": "execute_result"
    }
   ],
   "source": [
    "%pwd "
   ]
  },
  {
   "cell_type": "code",
   "execution_count": 15,
   "id": "34f269e5",
   "metadata": {},
   "outputs": [],
   "source": [
    "# entity\n",
    "from dataclasses import dataclass\n",
    "from pathlib import Path  \n",
    "\n",
    "@dataclass\n",
    "class ModelTrainerConfig:\n",
    "    root_dir: Path \n",
    "    data_path: Path \n",
    "    model_ckpt: Path \n",
    "    num_train_epochs: int \n",
    "    warmup_steps: int \n",
    "    per_device_train_batch_size: int \n",
    "    weight_decay: float \n",
    "    logging_steps: int \n",
    "    eval_strategy: str \n",
    "    eval_steps: int \n",
    "    save_steps: float \n",
    "    gradient_accumulation_steps: int \n"
   ]
  },
  {
   "cell_type": "code",
   "execution_count": 16,
   "id": "b984743d",
   "metadata": {},
   "outputs": [],
   "source": [
    "# configuration\n",
    "from src.textSummerizer.constants import * \n",
    "from src.textSummerizer.utils.common import read_yaml, create_directory\n",
    "from datasets import load_from_disk\n",
    "\n",
    "\n",
    "class ConfgurationManager: \n",
    "    def __init__(self,\n",
    "                 config_filepath=CONFIG_FILE_PATH,\n",
    "                 param_filepath=PARAMS_FILE_PATH):\n",
    "        self.config=read_yaml(config_filepath)\n",
    "        self.params=read_yaml(param_filepath)\n",
    "\n",
    "        create_directory([self.config.artifacts_root])\n",
    "\n",
    "    def get_model_trainer_config(self)-> ModelTrainerConfig:\n",
    "        config=self.config.model_trainer\n",
    "        params=self.params.TrainingArguments\n",
    "        create_directory([config.root_dir])\n",
    "\n",
    "        model_trainer_config=ModelTrainerConfig(\n",
    "            root_dir=config.root_dir,\n",
    "            data_path=config.data_path,\n",
    "            model_ckpt=config.model_ckpt,\n",
    "            num_train_epochs=params.num_train_epochs,\n",
    "            warmup_steps=params.warmup_steps,\n",
    "            per_device_train_batch_size=params.per_device_train_batch_size,\n",
    "            weight_decay=params.weight_decay,\n",
    "            logging_steps=params.logging_steps,\n",
    "            eval_steps=params.eval_steps,\n",
    "            save_steps=params.save_steps,\n",
    "            gradient_accumulation_steps=params.gradient_accumulation_steps,\n",
    "            eval_strategy=params.evaluation_strategy\n",
    "\n",
    "        )\n",
    "        return model_trainer_config       "
   ]
  },
  {
   "cell_type": "code",
   "execution_count": null,
   "id": "3bc1396a",
   "metadata": {},
   "outputs": [],
   "source": [
    "# components\n",
    "from transformers import AutoModelForSeq2SeqLM, AutoTokenizer\n",
    "from transformers import TrainingArguments, Trainer \n",
    "from transformers import DataCollatorForSeq2Seq\n",
    "import torch\n",
    "\n",
    "class ModelTrainer: \n",
    "    def __init__(self, config:ModelTrainerConfig):\n",
    "        self.config=config\n",
    "\n",
    "    def train(self):\n",
    "        device='cuda' if torch.cuda.is_available() else 'cpu'\n",
    "        tokenizer = AutoTokenizer.from_pretrained(self.config.model_ckpt)\n",
    "        model_pegasus=AutoModelForSeq2SeqLM.from_pretrained(self.config.model_ckpt).to(device)\n",
    "        seq2seq_data_collator=DataCollatorForSeq2Seq(tokenizer, model=model_pegasus)\n",
    "\n",
    "        # load the data\n",
    "        dataset_samsum_pt=load_from_disk(self.config.data_path)\n",
    "        \n",
    "        trainer_args=TrainingArguments(\n",
    "            output_dir=self.config.root_dir, num_train_epochs=1, warmup_steps=500,\n",
    "            per_device_train_batch_size=1, per_device_eval_batch_size=1,\n",
    "            weight_decay=0.01, logging_steps=10,\n",
    "            eval_strategy='steps', eval_steps=500, save_steps=1e6,\n",
    "            gradient_accumulation_steps=16\n",
    "        )\n",
    "\n",
    "        trainer=Trainer(model=model_pegasus, args=trainer_args,\n",
    "                        tokenizer=tokenizer, data_collator=seq2seq_data_collator,\n",
    "                        train_dataset=dataset_samsum_pt['test'],\n",
    "                        eval_dataset=dataset_samsum_pt['validation']\n",
    "                        )\n",
    "        trainer.train()\n",
    "        # save model\n",
    "        model_pegasus.save_pretrained(os.path.join(self.config.root_dir,'pegasus-samsum-model'))\n",
    "        # save tokenizer\n",
    "        tokenizer.save_pretrained(os.path.join(self.config.root_dir,'tokenizer'))"
   ]
  },
  {
   "cell_type": "code",
   "execution_count": 20,
   "id": "0fe75364",
   "metadata": {},
   "outputs": [
    {
     "name": "stdout",
     "output_type": "stream",
     "text": [
      "[2025-04-19 05:42:15,115: INFO: common: Yaml file config\\config.yaml loaded successfully]\n",
      "[2025-04-19 05:42:15,118: INFO: common: Yaml file params.yaml loaded successfully]\n",
      "[2025-04-19 05:42:15,119: INFO: common: created directory at: artifacts]\n",
      "[2025-04-19 05:42:15,121: INFO: common: created directory at: artifacts/model_trainer]\n"
     ]
    },
    {
     "name": "stderr",
     "output_type": "stream",
     "text": [
      "Some weights of PegasusForConditionalGeneration were not initialized from the model checkpoint at google/pegasus-cnn_dailymail and are newly initialized: ['model.decoder.embed_positions.weight', 'model.encoder.embed_positions.weight']\n",
      "You should probably TRAIN this model on a down-stream task to be able to use it for predictions and inference.\n",
      "C:\\Users\\26amr\\AppData\\Local\\Temp\\ipykernel_38844\\2479392869.py:28: FutureWarning: `tokenizer` is deprecated and will be removed in version 5.0.0 for `Trainer.__init__`. Use `processing_class` instead.\n",
      "  trainer=Trainer(model=model_pegasus, args=trainer_args,\n"
     ]
    },
    {
     "data": {
      "text/html": [
       "\n",
       "    <div>\n",
       "      \n",
       "      <progress value='51' max='51' style='width:300px; height:20px; vertical-align: middle;'></progress>\n",
       "      [51/51 36:02, Epoch 0/1]\n",
       "    </div>\n",
       "    <table border=\"1\" class=\"dataframe\">\n",
       "  <thead>\n",
       " <tr style=\"text-align: left;\">\n",
       "      <th>Step</th>\n",
       "      <th>Training Loss</th>\n",
       "      <th>Validation Loss</th>\n",
       "    </tr>\n",
       "  </thead>\n",
       "  <tbody>\n",
       "  </tbody>\n",
       "</table><p>"
      ],
      "text/plain": [
       "<IPython.core.display.HTML object>"
      ]
     },
     "metadata": {},
     "output_type": "display_data"
    },
    {
     "name": "stderr",
     "output_type": "stream",
     "text": [
      "d:\\pythonProjects\\Agentic_AI\\venv\\Lib\\site-packages\\transformers\\modeling_utils.py:3339: UserWarning: Moving the following attributes in the config to the generation config: {'max_length': 128, 'min_length': 32, 'num_beams': 8, 'length_penalty': 0.8}. You are seeing this warning because you've set generation parameters in the model config, as opposed to in the generation config.\n",
      "  warnings.warn(\n"
     ]
    },
    {
     "ename": "AttributeError",
     "evalue": "'PegasusForConditionalGeneration' object has no attribute 'save_pretrain'",
     "output_type": "error",
     "traceback": [
      "\u001b[31m---------------------------------------------------------------------------\u001b[39m",
      "\u001b[31mAttributeError\u001b[39m                            Traceback (most recent call last)",
      "\u001b[36mCell\u001b[39m\u001b[36m \u001b[39m\u001b[32mIn[20]\u001b[39m\u001b[32m, line 4\u001b[39m\n\u001b[32m      2\u001b[39m model_trainer_config=config.get_model_trainer_config()\n\u001b[32m      3\u001b[39m model_trainer_config=ModelTrainer(config=model_trainer_config)\n\u001b[32m----> \u001b[39m\u001b[32m4\u001b[39m \u001b[43mmodel_trainer_config\u001b[49m\u001b[43m.\u001b[49m\u001b[43mtrain\u001b[49m\u001b[43m(\u001b[49m\u001b[43m)\u001b[49m\n",
      "\u001b[36mCell\u001b[39m\u001b[36m \u001b[39m\u001b[32mIn[19]\u001b[39m\u001b[32m, line 35\u001b[39m, in \u001b[36mModelTrainer.train\u001b[39m\u001b[34m(self)\u001b[39m\n\u001b[32m     33\u001b[39m trainer.train()\n\u001b[32m     34\u001b[39m \u001b[38;5;66;03m# save model\u001b[39;00m\n\u001b[32m---> \u001b[39m\u001b[32m35\u001b[39m \u001b[43mmodel_pegasus\u001b[49m\u001b[43m.\u001b[49m\u001b[43msave_pretrain\u001b[49m(os.path.join(\u001b[38;5;28mself\u001b[39m.config.root_dir,\u001b[33m'\u001b[39m\u001b[33mpegasus-samsum-model\u001b[39m\u001b[33m'\u001b[39m))\n\u001b[32m     36\u001b[39m \u001b[38;5;66;03m# save tokenizer\u001b[39;00m\n\u001b[32m     37\u001b[39m tokenizer.save_pretrained(os.path.join(\u001b[38;5;28mself\u001b[39m.config.root_dir,\u001b[33m'\u001b[39m\u001b[33mtokenizer\u001b[39m\u001b[33m'\u001b[39m))\n",
      "\u001b[36mFile \u001b[39m\u001b[32md:\\pythonProjects\\Agentic_AI\\venv\\Lib\\site-packages\\torch\\nn\\modules\\module.py:1928\u001b[39m, in \u001b[36mModule.__getattr__\u001b[39m\u001b[34m(self, name)\u001b[39m\n\u001b[32m   1926\u001b[39m     \u001b[38;5;28;01mif\u001b[39;00m name \u001b[38;5;129;01min\u001b[39;00m modules:\n\u001b[32m   1927\u001b[39m         \u001b[38;5;28;01mreturn\u001b[39;00m modules[name]\n\u001b[32m-> \u001b[39m\u001b[32m1928\u001b[39m \u001b[38;5;28;01mraise\u001b[39;00m \u001b[38;5;167;01mAttributeError\u001b[39;00m(\n\u001b[32m   1929\u001b[39m     \u001b[33mf\u001b[39m\u001b[33m\"\u001b[39m\u001b[33m'\u001b[39m\u001b[38;5;132;01m{\u001b[39;00m\u001b[38;5;28mtype\u001b[39m(\u001b[38;5;28mself\u001b[39m).\u001b[34m__name__\u001b[39m\u001b[38;5;132;01m}\u001b[39;00m\u001b[33m'\u001b[39m\u001b[33m object has no attribute \u001b[39m\u001b[33m'\u001b[39m\u001b[38;5;132;01m{\u001b[39;00mname\u001b[38;5;132;01m}\u001b[39;00m\u001b[33m'\u001b[39m\u001b[33m\"\u001b[39m\n\u001b[32m   1930\u001b[39m )\n",
      "\u001b[31mAttributeError\u001b[39m: 'PegasusForConditionalGeneration' object has no attribute 'save_pretrain'"
     ]
    }
   ],
   "source": [
    "config=ConfgurationManager()\n",
    "model_trainer_config=config.get_model_trainer_config()\n",
    "model_trainer_config=ModelTrainer(config=model_trainer_config)\n",
    "model_trainer_config.train()"
   ]
  },
  {
   "cell_type": "code",
   "execution_count": null,
   "id": "7cce1bbe",
   "metadata": {},
   "outputs": [],
   "source": []
  }
 ],
 "metadata": {
  "kernelspec": {
   "display_name": "Python 3",
   "language": "python",
   "name": "python3"
  },
  "language_info": {
   "codemirror_mode": {
    "name": "ipython",
    "version": 3
   },
   "file_extension": ".py",
   "mimetype": "text/x-python",
   "name": "python",
   "nbconvert_exporter": "python",
   "pygments_lexer": "ipython3",
   "version": "3.12.0"
  }
 },
 "nbformat": 4,
 "nbformat_minor": 5
}
